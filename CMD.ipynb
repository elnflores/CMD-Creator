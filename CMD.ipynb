{
 "cells": [
  {
   "cell_type": "markdown",
   "id": "d42785e5",
   "metadata": {},
   "source": [
    "## Blue Stragglers Research Project\n",
    "Yuvraj Sahu, Elijah Flores, Andrew Harvey\n",
    "\n",
    "Geometry of Space - Freshman Research Initiative\n",
    "\n",
    "The University of Texas at Austin"
   ]
  },
  {
   "cell_type": "code",
   "execution_count": null,
   "id": "aa13bfec",
   "metadata": {},
   "outputs": [],
   "source": [
    "# Import libraries\n",
    "import pandas as pd\n",
    "import plotly.graph_objects as go\n",
    "import requests\n",
    "import concurrent.futures\n",
    "import requests"
   ]
  },
  {
   "cell_type": "code",
   "execution_count": null,
   "id": "7c26c4cb",
   "metadata": {},
   "outputs": [],
   "source": [
    "# Global parameters, can be changed for customization or use of different clusters\n",
    "file_name       = 'NGC 2682.csv'\n",
    "cluster_name    = 'NGC 2682'\n",
    "df              = pd.read_csv(file_name, skiprows=0)\n",
    "bss_color       = 'blue'\n",
    "candidate_color = 'skyblue'\n",
    "default_color   = 'black'\n",
    "error_color     = 'lightgrey'"
   ]
  },
  {
   "cell_type": "code",
   "execution_count": null,
   "id": "7f720d2d",
   "metadata": {},
   "outputs": [],
   "source": [
    "# Creates Simbad URL from a GAIA ID\n",
    "def link(id):\n",
    "    u = id.split()\n",
    "    return 'http://simbad.cds.unistra.fr/simbad/sim-basic?Ident=' + u[0] + '+' + u[1] + '+' + u[2] + '&submit=SIMBAD+search'"
   ]
  },
  {
   "cell_type": "code",
   "execution_count": null,
   "id": "267e442a",
   "metadata": {},
   "outputs": [],
   "source": [
    "\n",
    "# Fetches color of object\n",
    "def fetch_star_color(star):\n",
    "    url = link(df['designation'][star])\n",
    "    try:\n",
    "        response = requests.get(url, timeout=2)\n",
    "        html_string = response.text\n",
    "        i = html_string.find(' is a ')\n",
    "        j = html_string.find('\"', i)\n",
    "        star_type = html_string[i+6:j]\n",
    "        if star_type == 'Blue Straggler Candidate':\n",
    "            return candidate_color\n",
    "        elif star_type == 'Blue Straggler':\n",
    "            return bss_color\n",
    "        else:\n",
    "            return default_color\n",
    "    except requests.exceptions.Timeout:\n",
    "        print(f'Could not get request for {df[\"designation\"][star]}')\n",
    "        return error_color\n",
    "\n",
    "# Determines BSS candidacy for each star\n",
    "def determine_candidacy():\n",
    "    with concurrent.futures.ThreadPoolExecutor() as executor:\n",
    "        colors = list(executor.map(fetch_star_color, range(len(df.index))))\n",
    "    df['color'] = colors\n"
   ]
  },
  {
   "cell_type": "code",
   "execution_count": null,
   "id": "ddb5a400",
   "metadata": {},
   "outputs": [],
   "source": [
    "# Creates graph objects\n",
    "fig = go.FigureWidget([go.Scatter(x=df['g_rp'], y=df['phot_g_mean_mag'], mode='markers')])\n",
    "scatter = fig.data[0]\n",
    "\n",
    "# Updates graph object properties\n",
    "determine_candidacy()\n",
    "scatter.marker.color = df['color']\n",
    "scatter.marker.size = [10] * len(df.index)\n",
    "fig.update_layout(dict(yaxis_autorange = 'reversed', xaxis_title = 'G - Rp [mag]', yaxis_title = 'G [mag]', title_text = 'Color-Magnitude Diagram of ' + cluster_name, title_x = 0.5))\n",
    "fig.layout.hovermode = 'closest'\n",
    "\n",
    "# Displays graph\n",
    "fig"
   ]
  },
  {
   "cell_type": "code",
   "execution_count": null,
   "id": "00506787",
   "metadata": {},
   "outputs": [],
   "source": [
    "# Updates the clicked on point, resets any previous points, and prints out\n",
    "# star information\n",
    "def update_point(trace, points, selector):\n",
    "    marker_sizes = [10] * len(df.index)\n",
    "    clicked_pt = points.point_inds[0]\n",
    "    marker_sizes[clicked_pt] = 15\n",
    "    scatter.marker.size = marker_sizes\n",
    "    print(str(df['designation'][clicked_pt]))\n",
    "    print('RA: ' + str(df['ra'][clicked_pt]))\n",
    "    print('Dec: ' + str(df['dec'][clicked_pt]))\n",
    "    print('Simbad URL: ' + link(df['designation'][clicked_pt]))\n",
    "    print()\n",
    "scatter.on_click(update_point)"
   ]
  }
 ],
 "metadata": {
  "kernelspec": {
   "display_name": "Python 3",
   "language": "python",
   "name": "python3"
  },
  "language_info": {
   "codemirror_mode": {
    "name": "ipython",
    "version": 3
   },
   "file_extension": ".py",
   "mimetype": "text/x-python",
   "name": "python",
   "nbconvert_exporter": "python",
   "pygments_lexer": "ipython3",
   "version": "3.11.1"
  }
 },
 "nbformat": 4,
 "nbformat_minor": 5
}
